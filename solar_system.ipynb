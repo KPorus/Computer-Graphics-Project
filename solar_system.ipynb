{
 "cells": [
  {
   "cell_type": "code",
   "execution_count": 1,
   "id": "a493a1c9",
   "metadata": {},
   "outputs": [],
   "source": [
    "# %pip install -r requirements.txt "
   ]
  },
  {
   "cell_type": "code",
   "execution_count": 2,
   "id": "143884b4",
   "metadata": {},
   "outputs": [
    {
     "name": "stdout",
     "output_type": "stream",
     "text": [
      "pygame 2.6.1 (SDL 2.28.4, Python 3.11.9)\n",
      "Hello from the pygame community. https://www.pygame.org/contribute.html\n"
     ]
    }
   ],
   "source": [
    "import pygame\n",
    "from pygame.locals import *\n",
    "from OpenGL.GL import *\n",
    "from OpenGL.GLU import *\n",
    "import math\n",
    "import random"
   ]
  },
  {
   "cell_type": "code",
   "execution_count": 3,
   "id": "dc68c3b8",
   "metadata": {},
   "outputs": [],
   "source": [
    "\n",
    "\n",
    "# Initialize Pygame\n",
    "pygame.init()\n",
    "display = pygame.display.list_modes()[0]  # Get the current screen resolution\n",
    "pygame.display.set_mode(display, DOUBLEBUF | OPENGL | FULLSCREEN)\n",
    "pygame.display.set_caption(\"Solar System Simulation\")\n",
    "pygame.mouse.set_visible(False)\n",
    "pygame.mixer.init()\n",
    "\n",
    "try:\n",
    "    pygame.mixer.music.load(\"space-rumble-29970.mp3\")\n",
    "    pygame.mixer.music.play(-1)\n",
    "except:\n",
    "    print(\"Could not load music.\")\n",
    "    \n",
    "gluPerspective(45, (display[0] / display[1]), 0.1, 100.0)\n",
    "glTranslatef(0.0, 0.0, -40)\n",
    "\n",
    "# Sun and planet data\n",
    "planets = [\n",
    "    {\"name\": \"Sun\", \"radius\": 2.0, \"distance\": 0, \"speed\": 0, \"color\": (1, 1, 0)},\n",
    "    {\"name\": \"Mercury\", \"radius\": 0.2, \"distance\": 4, \"speed\": 0.03, \"color\": (0.5, 0.5, 0.5)},\n",
    "    {\"name\": \"Venus\", \"radius\": 0.3, \"distance\": 5.5, \"speed\": 0.025, \"color\": (1, 0.8, 0.2)},\n",
    "    {\"name\": \"Earth\", \"radius\": 0.5, \"distance\": 7, \"speed\": 0.02, \"color\": (0, 0.5, 1)},\n",
    "    {\"name\": \"Mars\", \"radius\": 0.4, \"distance\": 9, \"speed\": 0.018, \"color\": (1, 0.3, 0)},\n",
    "    {\"name\": \"Jupiter\", \"radius\": 1.0, \"distance\": 12, \"speed\": 0.012, \"color\": (1, 0.6, 0.2)},\n",
    "    {\"name\": \"Saturn\", \"radius\": 0.9, \"distance\": 16, \"speed\": 0.009, \"color\": (1, 1, 0.5)},\n",
    "    {\"name\": \"Uranus\", \"radius\": 0.7, \"distance\": 20, \"speed\": 0.006, \"color\": (0.5, 1, 1)},\n",
    "    {\"name\": \"Neptune\", \"radius\": 0.7, \"distance\": 24, \"speed\": 0.004, \"color\": (0.3, 0.5, 1)},\n",
    "]\n",
    "\n",
    "\n"
   ]
  },
  {
   "cell_type": "code",
   "execution_count": 4,
   "id": "bd73cedf",
   "metadata": {},
   "outputs": [],
   "source": [
    "\n",
    "# Draw a simple sphere (uses gluSphere)\n",
    "def draw_sphere(radius, color):\n",
    "    glColor3fv(color)\n",
    "    quadric = gluNewQuadric()\n",
    "    gluSphere(quadric, radius, 32, 16)\n",
    "    gluDeleteQuadric(quadric)\n",
    "\n",
    "# Planet angle state\n",
    "angles = [0 for _ in planets]\n",
    "class Comet:\n",
    "    def __init__(self):\n",
    "        self.reset()\n",
    "\n",
    "    def reset(self):\n",
    "        self.x = random.uniform(-60, 60)\n",
    "        self.y = random.uniform(-30, 30)\n",
    "        self.z = random.uniform(-100, -70)\n",
    "        self.dx = random.uniform(0.1, 0.4)\n",
    "        self.dy = random.uniform(-0.1, 0.1)\n",
    "        self.dz = random.uniform(0.1, 0.4)\n",
    "\n",
    "    def update(self):\n",
    "        self.x += self.dx\n",
    "        self.y += self.dy\n",
    "        self.z += self.dz\n",
    "        if self.z > 0 or abs(self.x) > 70 or abs(self.y) > 40:\n",
    "            self.reset()\n",
    "\n",
    "    def draw(self):\n",
    "        glPushMatrix()\n",
    "        glTranslatef(self.x, self.y, self.z)\n",
    "        draw_sphere(0.2, (1, 1, 1))  # white comet\n",
    "        glPopMatrix()\n",
    "\n",
    "comets = [Comet() for _ in range(3)]"
   ]
  },
  {
   "cell_type": "code",
   "execution_count": 5,
   "id": "98c4b1fa",
   "metadata": {},
   "outputs": [],
   "source": [
    "num_stars = 200\n",
    "stars = [\n",
    "    (\n",
    "        random.uniform(-50, 50),\n",
    "        random.uniform(-50, 50),\n",
    "        random.uniform(-90, -40)\n",
    "    )\n",
    "    for _ in range(num_stars)\n",
    "]\n"
   ]
  },
  {
   "cell_type": "code",
   "execution_count": 6,
   "id": "dc4060f5",
   "metadata": {},
   "outputs": [],
   "source": [
    "# OpenGL error checking\n",
    "def check_opengl_error():\n",
    "    error = glGetError()\n",
    "    if error != GL_NO_ERROR:\n",
    "        print(\"OpenGL error:\", gluErrorString(error))\n"
   ]
  },
  {
   "cell_type": "code",
   "execution_count": null,
   "id": "2f0dbe26",
   "metadata": {},
   "outputs": [
    {
     "ename": "GLError",
     "evalue": "GLError(\n\terr = 1282,\n\tdescription = b'invalid operation',\n\tbaseOperation = glClear,\n\tcArguments = (16640,)\n)",
     "output_type": "error",
     "traceback": [
      "\u001b[31m---------------------------------------------------------------------------\u001b[39m",
      "\u001b[31mGLError\u001b[39m                                   Traceback (most recent call last)",
      "\u001b[36mCell\u001b[39m\u001b[36m \u001b[39m\u001b[32mIn[7]\u001b[39m\u001b[32m, line 8\u001b[39m\n\u001b[32m      5\u001b[39m         pygame.quit()\n\u001b[32m      6\u001b[39m         quit()\n\u001b[32m----> \u001b[39m\u001b[32m8\u001b[39m \u001b[43mglClear\u001b[49m\u001b[43m(\u001b[49m\u001b[43mGL_COLOR_BUFFER_BIT\u001b[49m\u001b[43m \u001b[49m\u001b[43m|\u001b[49m\u001b[43m \u001b[49m\u001b[43mGL_DEPTH_BUFFER_BIT\u001b[49m\u001b[43m)\u001b[49m\n\u001b[32m      9\u001b[39m glEnable(GL_DEPTH_TEST)\n\u001b[32m     11\u001b[39m \u001b[38;5;66;03m# Move stars slowly for twinkling effect\u001b[39;00m\n",
      "\u001b[36mFile \u001b[39m\u001b[32mg:\\Computer Graphics Project\\venv\\Lib\\site-packages\\OpenGL\\error.py:230\u001b[39m, in \u001b[36m_ErrorChecker.glCheckError\u001b[39m\u001b[34m(self, result, baseOperation, cArguments, *args)\u001b[39m\n\u001b[32m    228\u001b[39m err = \u001b[38;5;28mself\u001b[39m._currentChecker()\n\u001b[32m    229\u001b[39m \u001b[38;5;28;01mif\u001b[39;00m err != \u001b[38;5;28mself\u001b[39m._noErrorResult:\n\u001b[32m--> \u001b[39m\u001b[32m230\u001b[39m     \u001b[38;5;28;01mraise\u001b[39;00m \u001b[38;5;28mself\u001b[39m._errorClass(\n\u001b[32m    231\u001b[39m         err,\n\u001b[32m    232\u001b[39m         result,\n\u001b[32m    233\u001b[39m         cArguments = cArguments,\n\u001b[32m    234\u001b[39m         baseOperation = baseOperation,\n\u001b[32m    235\u001b[39m     )\n\u001b[32m    236\u001b[39m \u001b[38;5;28;01mreturn\u001b[39;00m result\n",
      "\u001b[31mGLError\u001b[39m: GLError(\n\terr = 1282,\n\tdescription = b'invalid operation',\n\tbaseOperation = glClear,\n\tcArguments = (16640,)\n)"
     ]
    },
    {
     "ename": "",
     "evalue": "",
     "output_type": "error",
     "traceback": [
      "\u001b[1;31mThe Kernel crashed while executing code in the current cell or a previous cell. \n",
      "\u001b[1;31mPlease review the code in the cell(s) to identify a possible cause of the failure. \n",
      "\u001b[1;31mClick <a href='https://aka.ms/vscodeJupyterKernelCrash'>here</a> for more info. \n",
      "\u001b[1;31mView Jupyter <a href='command:jupyter.viewOutput'>log</a> for further details."
     ]
    }
   ],
   "source": [
    "clock = pygame.time.Clock()\n",
    "while True:\n",
    "    for event in pygame.event.get():\n",
    "        if event.type == pygame.QUIT or (event.type == KEYDOWN and event.key == pygame.K_ESCAPE):\n",
    "            pygame.quit()\n",
    "            quit()\n",
    "        \n",
    "    glClear(GL_COLOR_BUFFER_BIT | GL_DEPTH_BUFFER_BIT)\n",
    "    glEnable(GL_DEPTH_TEST)\n",
    "\n",
    "    # Move stars slowly for twinkling effect\n",
    "    for i in range(len(stars)):\n",
    "        x, y, z = stars[i]\n",
    "        z += 0.05\n",
    "        if z > -40:\n",
    "            z = random.uniform(-90, -70)\n",
    "        stars[i] = (x, y, z)\n",
    "\n",
    "    # Draw background stars\n",
    "    glPointSize(1)\n",
    "    glBegin(GL_POINTS)\n",
    "    glColor3f(1, 1, 1)\n",
    "    for star in stars:\n",
    "        glVertex3f(*star)\n",
    "    glEnd()\n",
    "\n",
    "    # Draw Sun and planets\n",
    "    for i, p in enumerate(planets):\n",
    "        glPushMatrix()\n",
    "\n",
    "        if i != 0:\n",
    "            angles[i] += p[\"speed\"]\n",
    "            x = math.cos(angles[i]) * p[\"distance\"]\n",
    "            z = math.sin(angles[i]) * p[\"distance\"]\n",
    "            glTranslatef(x, 0, z)\n",
    "        draw_sphere(p[\"radius\"], p[\"color\"])\n",
    "\n",
    "        glPopMatrix()\n",
    "\n",
    "    for comet in comets:\n",
    "        comet.update()\n",
    "        comet.draw()\n",
    "    check_opengl_error()\n",
    "    pygame.display.flip()\n",
    "    clock.tick(60)"
   ]
  }
 ],
 "metadata": {
  "kernelspec": {
   "display_name": "venv",
   "language": "python",
   "name": "python3"
  },
  "language_info": {
   "codemirror_mode": {
    "name": "ipython",
    "version": 3
   },
   "file_extension": ".py",
   "mimetype": "text/x-python",
   "name": "python",
   "nbconvert_exporter": "python",
   "pygments_lexer": "ipython3",
   "version": "3.11.9"
  }
 },
 "nbformat": 4,
 "nbformat_minor": 5
}
